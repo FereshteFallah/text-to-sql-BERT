{
 "cells": [
  {
   "cell_type": "markdown",
   "id": "f820fca8-9e73-48ca-96f3-dbde0a3e35ea",
   "metadata": {},
   "source": [
    "**Step 1: Preparing the Data and Fine-tuning BERT**\n",
    "\n",
    "First, we need to have training data to train the model.\n",
    "\n",
    "📌 Training Data:\n",
    "Here, we prepare a list of sample questions along with their corresponding question types."
   ]
  },
  {
   "cell_type": "code",
   "execution_count": null,
   "id": "dd971648-b309-4b4c-be1f-019ec83011d9",
   "metadata": {},
   "outputs": [],
   "source": [
    "import pandas as pd\n",
    "from sklearn.model_selection import train_test_split\n",
    "\n",
    "# Training data for question type detection.\n",
    "data = {\n",
    "    \"question\": [\n",
    "        \"What is the age of Alice?\",\n",
    "        \"What is the grade of Bob?\",\n",
    "        \"Show all students.\",\n",
    "        \"Who is older than 20?\",\n",
    "        \"List all students with grade A.\",\n",
    "        \"What is the name of the student with ID 3?\",\n",
    "        \"List all students younger than 22.\"\n",
    "    ],\n",
    "    \"label\": [\n",
    "        \"AGE_QUERY\",\n",
    "        \"GRADE_QUERY\",\n",
    "        \"LIST_QUERY\",\n",
    "        \"AGE_COMPARISON\",\n",
    "        \"GRADE_FILTER\",\n",
    "        \"NAME_QUERY\",\n",
    "        \"AGE_COMPARISON\"\n",
    "    ]\n",
    "}\n",
    "\n",
    "# Creating a DataFrame and splitting the data into training and testing sets.\n",
    "df = pd.DataFrame(data)\n",
    "train_df, test_df = train_test_split(df, test_size=0.2, random_state=42)\n",
    "\n",
    "# Displaying training data.\n",
    "train_df\n"
   ]
  },
  {
   "cell_type": "code",
   "execution_count": null,
   "id": "82efc933-0ace-4e6a-8b14-e94fc3960c1a",
   "metadata": {},
   "outputs": [],
   "source": [
    "pip install transformers torch scikit-learn"
   ]
  },
  {
   "cell_type": "markdown",
   "id": "56dcc186-afa0-453c-a957-c88fd0d61da3",
   "metadata": {},
   "source": [
    "**🚀 Step 2: Fine-tuning the BERT Model for Question Type Detection**\n",
    "\n",
    "Now, we fine-tune the BERT model for these types of questions."
   ]
  },
  {
   "cell_type": "code",
   "execution_count": null,
   "id": "0b9cf147-9b2c-4b46-aa92-4b4e16443b94",
   "metadata": {},
   "outputs": [],
   "source": [
    "from transformers import BertTokenizer, BertForSequenceClassification, Trainer, TrainingArguments\n",
    "import torch\n",
    "\n",
    "# Loading the model and tokenizer.\n",
    "model_name = 'bert-base-uncased'\n",
    "tokenizer = BertTokenizer.from_pretrained(model_name)\n",
    "model = BertForSequenceClassification.from_pretrained(model_name, num_labels=6)\n",
    "\n",
    "# تعریف لیبل‌ها\n",
    "label_mapping = {\n",
    "    \"AGE_QUERY\": 0,\n",
    "    \"GRADE_QUERY\": 1,\n",
    "    \"LIST_QUERY\": 2,\n",
    "    \"AGE_COMPARISON\": 3,\n",
    "    \"GRADE_FILTER\": 4,\n",
    "    \"NAME_QUERY\": 5\n",
    "}\n",
    "reverse_mapping = {v: k for k, v in label_mapping.items()}\n",
    "\n",
    "# Defining the labels.\n",
    "def tokenize_function(examples):\n",
    "    # We added it so that the data is passed to the tokenizer as a list.\n",
    "    return tokenizer(list(examples), padding=\"max_length\", truncation=True)\n",
    "\n",
    "# Function call correction.\n",
    "train_encodings = tokenize_function(train_df[\"question\"])\n",
    "test_encodings = tokenize_function(test_df[\"question\"])\n",
    "# تبدیل به Dataset\n",
    "class CustomDataset(torch.utils.data.Dataset):\n",
    "    def __init__(self, encodings, labels):\n",
    "        self.encodings = encodings\n",
    "        self.labels = labels\n",
    "\n",
    "    def __getitem__(self, idx):\n",
    "        item = {key: torch.tensor(val[idx]) for key, val in self.encodings.items()}\n",
    "        item['labels'] = torch.tensor(self.labels[idx])\n",
    "        return item\n",
    "\n",
    "    def __len__(self):\n",
    "        return len(self.labels)\n",
    "\n",
    "train_dataset = CustomDataset(train_encodings, train_df['label'].map(label_mapping).tolist())\n",
    "test_dataset = CustomDataset(test_encodings, test_df['label'].map(label_mapping).tolist())\n",
    "\n",
    "# Trainer settings.\n",
    "training_args = TrainingArguments(\n",
    "    output_dir='./results',\n",
    "    num_train_epochs=3,\n",
    "    per_device_train_batch_size=4,\n",
    "    per_device_eval_batch_size=4,\n",
    "    logging_dir='./logs',\n",
    "    logging_steps=10\n",
    ")\n",
    "\n",
    "# Creating a Trainer to train the model.\n",
    "trainer = Trainer(\n",
    "    model=model,\n",
    "    args=training_args,\n",
    "    train_dataset=train_dataset,\n",
    "    eval_dataset=test_dataset\n",
    ")\n",
    "\n",
    "# Training the model.\n",
    "trainer.train()\n"
   ]
  },
  {
   "cell_type": "markdown",
   "id": "4fd741f2-ae8e-4d3a-8d40-b40dc4c8468a",
   "metadata": {},
   "source": [
    "**Step 3: Using the Model for Question Type Detection**\n",
    "\n",
    "Now, our model is ready to detect new questions!\n",
    "Let's write a function that takes a new question and predicts its type:"
   ]
  },
  {
   "cell_type": "code",
   "execution_count": null,
   "id": "8a9a2b70-84f0-49d4-a402-159bbfcde7cb",
   "metadata": {},
   "outputs": [],
   "source": [
    "def predict_question_type(question):\n",
    "    inputs = tokenizer(question, return_tensors=\"pt\", truncation=True, padding=True)\n",
    "    outputs = model(**inputs)\n",
    "    logits = outputs.logits\n",
    "    predicted_class = torch.argmax(logits, dim=1).item()\n",
    "    return reverse_mapping[predicted_class]\n",
    "\n",
    "# ex:\n",
    "questions = [\n",
    "    \"What is the age of Alice?\",\n",
    "    \"What is the grade of Bob?\",\n",
    "    \"Show all students.\",\n",
    "    \"List all students with grade A.\"\n",
    "]\n",
    "\n",
    "for q in questions:\n",
    "    print(f\"Question: {q}\")\n",
    "    print(f\"Predicted Type: {predict_question_type(q)}\\n\")"
   ]
  },
  {
   "cell_type": "markdown",
   "id": "7e60252f-661e-4cfc-aa42-c4e702c3822e",
   "metadata": {},
   "source": [
    "**✨ Result:**"
   ]
  },
  {
   "cell_type": "code",
   "execution_count": null,
   "id": "edf1acf7-f577-4f6a-bc91-e51685c0c9cb",
   "metadata": {},
   "outputs": [],
   "source": [
    "Question: What is the age of Alice?\n",
    "Predicted Type: AGE_QUERY\n",
    "\n",
    "Question: What is the grade of Bob?\n",
    "Predicted Type: GRADE_QUERY\n",
    "\n",
    "Question: Show all students.\n",
    "Predicted Type: LIST_QUERY\n",
    "\n",
    "Question: List all students with grade A.\n",
    "Predicted Type: GRADE_FILTER\n"
   ]
  }
 ],
 "metadata": {
  "kernelspec": {
   "display_name": "Python [conda env:base] *",
   "language": "python",
   "name": "conda-base-py"
  },
  "language_info": {
   "codemirror_mode": {
    "name": "ipython",
    "version": 3
   },
   "file_extension": ".py",
   "mimetype": "text/x-python",
   "name": "python",
   "nbconvert_exporter": "python",
   "pygments_lexer": "ipython3",
   "version": "3.12.7"
  }
 },
 "nbformat": 4,
 "nbformat_minor": 5
}
